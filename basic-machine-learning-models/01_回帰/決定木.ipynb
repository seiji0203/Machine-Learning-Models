{
 "cells": [
  {
   "cell_type": "markdown",
   "metadata": {
    "id": "r3cas2_1T98w"
   },
   "source": [
    "# 決定木"
   ]
  },
  {
   "cell_type": "markdown",
   "metadata": {
    "id": "IODliia6U1xO"
   },
   "source": [
    "## ライブラリのインポート"
   ]
  },
  {
   "cell_type": "code",
   "execution_count": 1,
   "metadata": {
    "id": "y98nA5UdU6Hf",
    "vscode": {
     "languageId": "python"
    },
    "executionInfo": {
     "status": "ok",
     "timestamp": 1668748989926,
     "user_tz": -540,
     "elapsed": 6,
     "user": {
      "displayName": "谷本聖司",
      "userId": "10605313975890380144"
     }
    }
   },
   "outputs": [],
   "source": [
    "import numpy as np\n",
    "import matplotlib.pyplot as plt\n",
    "import pandas as pd"
   ]
  },
  {
   "cell_type": "markdown",
   "metadata": {
    "id": "jpjZ43YlU8eI"
   },
   "source": [
    "## データセットのインポート"
   ]
  },
  {
   "cell_type": "code",
   "execution_count": 2,
   "metadata": {
    "id": "pLVaXoYVU_Uy",
    "vscode": {
     "languageId": "python"
    },
    "executionInfo": {
     "status": "ok",
     "timestamp": 1668748990446,
     "user_tz": -540,
     "elapsed": 7,
     "user": {
      "displayName": "谷本聖司",
      "userId": "10605313975890380144"
     }
    }
   },
   "outputs": [],
   "source": [
    "dataset = pd.read_csv('Data.csv')\n",
    "X = dataset.iloc[:, :-1].values\n",
    "y = dataset.iloc[:, -1].values"
   ]
  },
  {
   "cell_type": "markdown",
   "metadata": {
    "id": "tPJXMyyUJbWn"
   },
   "source": [
    "## 訓練用とテスト用へのデータセットの分割"
   ]
  },
  {
   "cell_type": "code",
   "execution_count": 3,
   "metadata": {
    "id": "rFOzpjaiJd5B",
    "vscode": {
     "languageId": "python"
    },
    "executionInfo": {
     "status": "ok",
     "timestamp": 1668748991383,
     "user_tz": -540,
     "elapsed": 943,
     "user": {
      "displayName": "谷本聖司",
      "userId": "10605313975890380144"
     }
    }
   },
   "outputs": [],
   "source": [
    "from sklearn.model_selection import train_test_split\n",
    "X_train, X_test, y_train, y_test = train_test_split(X, y, test_size = 0.2, random_state = 0)"
   ]
  },
  {
   "cell_type": "markdown",
   "metadata": {
    "id": "g16qFkFQVC35"
   },
   "source": [
    "## 訓練用データを使ったモデルの訓練"
   ]
  },
  {
   "cell_type": "code",
   "execution_count": 4,
   "metadata": {
    "colab": {
     "base_uri": "https://localhost:8080/"
    },
    "id": "SLDKyv1SVUqS",
    "vscode": {
     "languageId": "python"
    },
    "executionInfo": {
     "status": "ok",
     "timestamp": 1668748991384,
     "user_tz": -540,
     "elapsed": 8,
     "user": {
      "displayName": "谷本聖司",
      "userId": "10605313975890380144"
     }
    },
    "outputId": "5aeb60b4-8f03-4704-e986-4159a77b6d60"
   },
   "outputs": [
    {
     "output_type": "execute_result",
     "data": {
      "text/plain": [
       "DecisionTreeRegressor(random_state=0)"
      ]
     },
     "metadata": {},
     "execution_count": 4
    }
   ],
   "source": [
    "from sklearn.tree import DecisionTreeRegressor\n",
    "regressor = DecisionTreeRegressor(random_state = 0)\n",
    "regressor.fit(X_train, y_train)"
   ]
  },
  {
   "cell_type": "markdown",
   "metadata": {
    "id": "Nao9cdO6IgNb"
   },
   "source": [
    "## テスト用データを使った結果の予測"
   ]
  },
  {
   "cell_type": "code",
   "execution_count": 5,
   "metadata": {
    "colab": {
     "base_uri": "https://localhost:8080/"
    },
    "id": "EebHA3EOIkQK",
    "vscode": {
     "languageId": "python"
    },
    "executionInfo": {
     "status": "ok",
     "timestamp": 1668748991384,
     "user_tz": -540,
     "elapsed": 5,
     "user": {
      "displayName": "谷本聖司",
      "userId": "10605313975890380144"
     }
    },
    "outputId": "d94533ad-77c4-45d3-dc9a-5c356a793b73"
   },
   "outputs": [
    {
     "output_type": "stream",
     "name": "stdout",
     "text": [
      "[[431.28 431.23]\n",
      " [459.59 460.01]\n",
      " [460.06 461.14]\n",
      " ...\n",
      " [471.46 473.26]\n",
      " [437.76 438.  ]\n",
      " [462.74 463.28]]\n"
     ]
    }
   ],
   "source": [
    "y_pred = regressor.predict(X_test)\n",
    "np.set_printoptions(precision=2)\n",
    "print(np.concatenate((y_pred.reshape(len(y_pred),1), y_test.reshape(len(y_test),1)),1))"
   ]
  },
  {
   "cell_type": "markdown",
   "metadata": {
    "id": "V4nELFnnIod1"
   },
   "source": [
    "## モデルの評価"
   ]
  },
  {
   "cell_type": "code",
   "execution_count": 6,
   "metadata": {
    "colab": {
     "base_uri": "https://localhost:8080/"
    },
    "id": "_G2QS1UoIsTZ",
    "vscode": {
     "languageId": "python"
    },
    "executionInfo": {
     "status": "ok",
     "timestamp": 1668748991928,
     "user_tz": -540,
     "elapsed": 5,
     "user": {
      "displayName": "谷本聖司",
      "userId": "10605313975890380144"
     }
    },
    "outputId": "a7577485-2ddd-4aec-ab35-32bc6774bac4"
   },
   "outputs": [
    {
     "output_type": "execute_result",
     "data": {
      "text/plain": [
       "0.922905874177941"
      ]
     },
     "metadata": {},
     "execution_count": 6
    }
   ],
   "source": [
    "from sklearn.metrics import r2_score\n",
    "r2_score(y_test, y_pred)"
   ]
  },
  {
   "cell_type": "code",
   "execution_count": null,
   "metadata": {
    "vscode": {
     "languageId": "python"
    },
    "id": "80jfB6M2MHWv"
   },
   "outputs": [],
   "source": []
  }
 ],
 "metadata": {
  "colab": {
   "provenance": []
  },
  "kernelspec": {
   "display_name": "Python 3",
   "name": "python3"
  }
 },
 "nbformat": 4,
 "nbformat_minor": 0
}